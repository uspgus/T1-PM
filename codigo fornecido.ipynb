{
  "cells": [
    {
      "cell_type": "markdown",
      "id": "4GHGJaxmppTB",
      "metadata": {
        "id": "4GHGJaxmppTB"
      },
      "source": [
        "## Bibliotecas"
      ]
    },
    {
      "cell_type": "code",
      "execution_count": null,
      "id": "gzIu9HEzp9kJ",
      "metadata": {
        "colab": {
          "base_uri": "https://localhost:8080/"
        },
        "id": "gzIu9HEzp9kJ",
        "outputId": "b11f500c-45de-4628-b23e-e45c237538cf"
      },
      "outputs": [
        {
          "output_type": "stream",
          "name": "stdout",
          "text": [
            "Requirement already satisfied: mip in /usr/local/lib/python3.10/dist-packages (1.15.0)\n",
            "Requirement already satisfied: cffi==1.15.* in /usr/local/lib/python3.10/dist-packages (from mip) (1.15.1)\n",
            "Requirement already satisfied: pycparser in /usr/local/lib/python3.10/dist-packages (from cffi==1.15.*->mip) (2.22)\n"
          ]
        }
      ],
      "source": [
        "!pip install mip\n",
        "\n",
        "import pandas as pd\n",
        "import numpy as np\n",
        "import random\n",
        "import math\n",
        "import time\n",
        "from mip import Model, xsum, minimize, BINARY, INTEGER, OptimizationStatus"
      ]
    },
    {
      "cell_type": "markdown",
      "source": [
        "# Leitura dos Dados"
      ],
      "metadata": {
        "id": "xfw7mQ6kSgkp"
      },
      "id": "xfw7mQ6kSgkp"
    },
    {
      "cell_type": "code",
      "execution_count": null,
      "id": "A_FlaOhLpzOS",
      "metadata": {
        "id": "A_FlaOhLpzOS",
        "scrolled": false
      },
      "outputs": [],
      "source": [
        "# Função para ler os dados do arquivo de instância no formato excel\n",
        "# Parâmetros:\n",
        "# - arquivo (str): Caminho para o arquivo Excel com os dados da instância do problema.\n",
        "# Retorno: Retorna os parâmetros do problema (I, J, S, Z) e as matrizes de horários, recursos e custos.\n",
        "def ler_dados(arquivo):\n",
        "    dados = pd.read_excel(arquivo, sheet_name='inputgrad_certo', header=None)\n",
        "\n",
        "    # Extrai os parâmetros\n",
        "    I = int(dados.iloc[1, 0])  # Número de horários\n",
        "    J = int(dados.iloc[1, 1])  # Número de turmas\n",
        "    S = int(dados.iloc[4, 0])  # Número de salas\n",
        "    Z = int(dados.iloc[4, 1])  # Número de recursos\n",
        "\n",
        "    # Extrai as matrizes relacionadas aos horários, recursos e custos\n",
        "    M_ini = 7\n",
        "    M = dados.iloc[M_ini:M_ini + I, 0:J].values  # Matriz M (horários por turma)\n",
        "\n",
        "    t_ini = M_ini + I + 2\n",
        "    t = dados.iloc[t_ini:t_ini + S, 0:Z].values  # Matriz t (recursos por sala)\n",
        "\n",
        "    r_ini = t_ini + S + 2\n",
        "    r = dados.iloc[r_ini:r_ini + J, 0:Z].values  # Matriz r (recursos por turma)\n",
        "\n",
        "    c_ini = r_ini + J + 2\n",
        "    c = dados.iloc[c_ini:c_ini + S, 0:J].values  # Matriz c (custo de alocar uma turma em uma sala)\n",
        "\n",
        "    w_ini = c_ini + S + 2\n",
        "    w = dados.iloc[w_ini:w_ini + S, 0].values.reshape(-1, 1)  # Vetor w (capacidades das salas)\n",
        "\n",
        "    q_ini = w_ini + S + 2\n",
        "    q = dados.iloc[q_ini:q_ini + J, 0].values.reshape(-1, 1)  # Vetor q (número de alunos por turma)\n",
        "\n",
        "    return I, J, S, Z, M, t, r, c.T, w, q"
      ]
    },
    {
      "cell_type": "markdown",
      "source": [
        "# Modelo"
      ],
      "metadata": {
        "id": "wwMTAinISlWJ"
      },
      "id": "wwMTAinISlWJ"
    },
    {
      "cell_type": "code",
      "source": [
        "# Função para criar o modelo de alocação de aulas\n",
        "# Parâmetros:\n",
        "# - I, J, S, Z: Parâmetros extraídos dos dados (horários, turmas, salas e recursos).\n",
        "# - M, t, r, c, w, q: Matrizes e vetores extraídos dos dados.\n",
        "# Retorno: Retorna o modelo de otimização e as variaveis.\n",
        "def criar_modelo(I, J, S, Z, M, t, r, c, w, q):\n",
        "    # Voce deve implementar esta parte\n",
        "    # Esta é apenas uma sugestão de implementacao, voce pode mudar esta funcao se desejar ou ate criar o modelo\n",
        "    # diretamente no codigo sem usar uma funcao (recomendo fortemente que nao faca isso)\n",
        "\n",
        "    # modelo = Model(\"Alocacao_de_Salas\", solver_name=\"CBC\") # (Pode mudar o nome do modelo se quiser, mas nao modifique a parte do solver_name)\n",
        "\n",
        "    return modelo, x, y\n",
        "\n",
        "# Função para resolver o modelo de otimização com base em parâmetros fornecidos.\n",
        "# Parâmetros:\n",
        "# - modelo (pulp.LpProblem): O modelo de otimização que será resolvido.\n",
        "# - presolve (int): Se 1, presolve é ativado; se 0, é desativado.\n",
        "# - cortes (int): Intensidade da geracao de cortes (0 desativa).\n",
        "# Retorno: O modelo resolvido.\n",
        "def resolver_modelo(modelo, presolve, cortes):\n",
        "    # Configurar as opções do solver\n",
        "    modelo.preprocess = presolve  # Define preprocess (-1, 0, 1)\n",
        "    modelo.cuts = cortes  # Define geração de cortes (-1, 0, 1, 2, 3)\n",
        "\n",
        "    # Medir o tempo de execução\n",
        "    start_time = time.time()\n",
        "\n",
        "    # Resolver o modelo\n",
        "    status = modelo.optimize(max_seconds=1800) # Limite de tempo de 30 minutos\n",
        "\n",
        "    # Calcular o tempo de execução\n",
        "    execution_time = time.time() - start_time\n",
        "\n",
        "    # Exibir as informações do modelo resolvido\n",
        "    print(f\"Solução Encontrada: {modelo.objective_value}\")\n",
        "    print(f\"Gap: {modelo.gap * 100:.2f}%\")\n",
        "    print(f\"Tempo de execução: {execution_time:.2f} segundos\")\n",
        "\n",
        "    return modelo\n",
        "\n",
        "# Função para exibir a solução do modelo de alocação\n",
        "# Parâmetros:\n",
        "# - modelo (mip.Model): O modelo de otimização resolvido.\n",
        "# - x (list of lists): Variáveis de decisão de alocação turma-sala (binárias).\n",
        "# - y (list): Variáveis de decisão de trocas de sala (inteiras).\n",
        "# - J (int): Número de turmas.\n",
        "# - S (int): Número de salas.\n",
        "# Retorno: Nenhum. A função exibe diretamente a solução.\n",
        "def exibir_solucao(modelo, x, y, J, S):\n",
        "    # Verifica se o modelo encontrou uma solução\n",
        "    if modelo.status == OptimizationStatus.OPTIMAL or modelo.status == OptimizationStatus.FEASIBLE:\n",
        "        # Coletar solução de alocação de turmas\n",
        "        alocacao = []\n",
        "        for j in range(J):\n",
        "            for s in range(S):\n",
        "                if x[j][s].x >= 0.8:  # Verifica se a variável binária x[j][s] é 1 (alocada)\n",
        "                    alocacao.append((f\"Turma {j+1}\", f\"Sala {s+1}\"))\n",
        "\n",
        "        # Coletar o número de turmas por sala\n",
        "        trocas = [y[s].x for s in range(S)]\n",
        "\n",
        "        # Exibir a alocação de turmas e trocas de sala\n",
        "        print(\"Alocação de turmas:\")\n",
        "        for turma, sala in alocacao:\n",
        "            print(f\"{turma} alocada em {sala}\")\n",
        "\n",
        "        print(\"\\nTurmas por sala:\")\n",
        "        for s in range(S):\n",
        "            print(f\"Número de turmas alocadas na sala {s+1}: {trocas[s]}\")\n",
        "    else:\n",
        "        print(\"Nenhuma solução viável foi encontrada.\")"
      ],
      "metadata": {
        "id": "MjbvS7tkSmgh"
      },
      "id": "MjbvS7tkSmgh",
      "execution_count": null,
      "outputs": []
    },
    {
      "cell_type": "markdown",
      "source": [
        "# Gerar Instâncias Maiores"
      ],
      "metadata": {
        "id": "SicoxhAmSnpB"
      },
      "id": "SicoxhAmSnpB"
    },
    {
      "cell_type": "code",
      "execution_count": null,
      "id": "41a8dd89",
      "metadata": {
        "id": "41a8dd89"
      },
      "outputs": [],
      "source": [
        "# Função para gerar uma nova instância com base em dados lidos e um fator de escala.\n",
        "# Esta função aumenta ou reduz o tamanho da instância conforme o fator de escala fornecido.\n",
        "# Parâmetros:\n",
        "# - I, J, S, Z: Parâmetros de horários, turmas, salas e recursos.\n",
        "# - M, t, r, c, w, q, A_t: Matrizes lidas do arquivo de entrada (horários, recursos, custos, capacidade, alunos, etc).\n",
        "# - escala: Fator de escala para aumentar ou reduzir o tamanho da instância (exemplo: 1.5 para aumentar em 50%).\n",
        "# Retorno: Retorna os novos valores escalonados de I, J, S, Z e das matrizes M, t, r, c, w, q.\n",
        "def gerar_instancia(I, J, S, Z, M, t, r, c, w, q, escala):\n",
        "    novo_J = int(np.ceil(J * escala))\n",
        "    novo_S = int(np.ceil(S * escala))\n",
        "    novo_I = int(np.ceil(I * escala))\n",
        "    novo_Z = int(np.ceil(Z * escala))\n",
        "\n",
        "    # Função auxiliar para ampliar uma matriz de dados.\n",
        "    def ampliar(matriz, novo_tamanho_linhas, novo_tamanho_colunas):\n",
        "        fator_linhas = int(np.ceil(novo_tamanho_linhas / matriz.shape[0]))\n",
        "        fator_colunas = int(np.ceil(novo_tamanho_colunas / matriz.shape[1]))\n",
        "\n",
        "        matriz_expandida = np.tile(matriz, (fator_linhas, fator_colunas))\n",
        "\n",
        "        # Corta a matriz expandida para o novo tamanho necessário.\n",
        "        return matriz_expandida[:novo_tamanho_linhas, :novo_tamanho_colunas]\n",
        "\n",
        "    # Ampliar as matrizes e vetores com base no novo tamanho.\n",
        "    nova_M = ampliar(M, novo_I, novo_J)\n",
        "    nova_t = ampliar(t, novo_S, novo_Z)\n",
        "    nova_r = ampliar(r, novo_J, novo_Z)\n",
        "    nova_c = ampliar(c, novo_J, novo_S)\n",
        "    nova_w = np.tile(w, (int(np.ceil(novo_S / w.shape[0])), 1))[:novo_S]\n",
        "    nova_q = np.tile(q, (int(np.ceil(novo_J / q.shape[0])), 1))[:novo_J]\n",
        "\n",
        "    return novo_I, novo_J, novo_S, novo_Z, nova_M, nova_t, nova_r, nova_c, nova_w, nova_q"
      ]
    },
    {
      "cell_type": "markdown",
      "source": [
        "# Exemplo"
      ],
      "metadata": {
        "id": "AFEMnzcoStys"
      },
      "id": "AFEMnzcoStys"
    },
    {
      "cell_type": "code",
      "execution_count": null,
      "id": "421d7ae2",
      "metadata": {
        "id": "421d7ae2"
      },
      "outputs": [],
      "source": [
        "# OBS: Essa parte não funciona sem primeiro criar corretamente a função \"criar_modelo\"\n",
        "escala = 1\n",
        "I, J, S, Z, M, t, r, c, w, q = ler_dados('tabela1_matrizm(ij)Recuros.xlsx')\n",
        "\n",
        "# Gerar a instância com base na escala fornecida\n",
        "novo_I, novo_J, novo_S, novo_Z, nova_M, nova_t, nova_r, nova_c, nova_w, nova_q = gerar_instancia(I, J, S, Z, M, t, r, c, w, q, escala)\n",
        "\n",
        "# Criar e resolver o modelo\n",
        "mod, x, y = criar_modelo(novo_I, novo_J, novo_S, novo_Z, nova_M, nova_t, nova_r, nova_c, nova_w, nova_q)\n",
        "m = resolver_modelo(mod, 1, 1)\n",
        "\n",
        "# Exibir a solução (descomente a linha abaixo para exibir)\n",
        "# exibir_solucao(m, x, y, novo_J, novo_S)"
      ]
    }
  ],
  "metadata": {
    "colab": {
      "collapsed_sections": [
        "4GHGJaxmppTB",
        "xfw7mQ6kSgkp",
        "SicoxhAmSnpB"
      ],
      "provenance": []
    },
    "kernelspec": {
      "display_name": "Python 3 (ipykernel)",
      "language": "python",
      "name": "python3"
    },
    "language_info": {
      "codemirror_mode": {
        "name": "ipython",
        "version": 3
      },
      "file_extension": ".py",
      "mimetype": "text/x-python",
      "name": "python",
      "nbconvert_exporter": "python",
      "pygments_lexer": "ipython3",
      "version": "3.10.9"
    }
  },
  "nbformat": 4,
  "nbformat_minor": 5
}