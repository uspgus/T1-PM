{
 "cells": [
  {
   "cell_type": "markdown",
   "id": "4GHGJaxmppTB",
   "metadata": {
    "id": "4GHGJaxmppTB"
   },
   "source": [
    "## Bibliotecas"
   ]
  },
  {
   "cell_type": "code",
   "execution_count": 98,
   "id": "gzIu9HEzp9kJ",
   "metadata": {
    "colab": {
     "base_uri": "https://localhost:8080/"
    },
    "id": "gzIu9HEzp9kJ",
    "outputId": "b11f500c-45de-4628-b23e-e45c237538cf"
   },
   "outputs": [
    {
     "name": "stdout",
     "output_type": "stream",
     "text": [
      "Requirement already satisfied: mip in c:\\users\\mo\\appdata\\local\\packages\\pythonsoftwarefoundation.python.3.11_qbz5n2kfra8p0\\localcache\\local-packages\\python311\\site-packages (1.15.0)\n",
      "Requirement already satisfied: cffi==1.15.* in c:\\users\\mo\\appdata\\local\\packages\\pythonsoftwarefoundation.python.3.11_qbz5n2kfra8p0\\localcache\\local-packages\\python311\\site-packages (from mip) (1.15.1)\n",
      "Requirement already satisfied: pycparser in c:\\users\\mo\\appdata\\local\\packages\\pythonsoftwarefoundation.python.3.11_qbz5n2kfra8p0\\localcache\\local-packages\\python311\\site-packages (from cffi==1.15.*->mip) (2.22)\n"
     ]
    },
    {
     "name": "stderr",
     "output_type": "stream",
     "text": [
      "\n",
      "[notice] A new release of pip is available: 24.0 -> 24.3.1\n",
      "[notice] To update, run: C:\\Users\\Mo\\AppData\\Local\\Microsoft\\WindowsApps\\PythonSoftwareFoundation.Python.3.11_qbz5n2kfra8p0\\python.exe -m pip install --upgrade pip\n"
     ]
    }
   ],
   "source": [
    "!pip install mip\n",
    "\n",
    "import pandas as pd\n",
    "import numpy as np\n",
    "import random\n",
    "import math\n",
    "import time\n",
    "from mip import Model, xsum, minimize, BINARY, INTEGER, OptimizationStatus"
   ]
  },
  {
   "cell_type": "markdown",
   "id": "xfw7mQ6kSgkp",
   "metadata": {
    "id": "xfw7mQ6kSgkp"
   },
   "source": [
    "# Leitura dos Dados"
   ]
  },
  {
   "cell_type": "code",
   "execution_count": 99,
   "id": "A_FlaOhLpzOS",
   "metadata": {
    "id": "A_FlaOhLpzOS",
    "scrolled": false
   },
   "outputs": [],
   "source": [
    "# Função para ler os dados do arquivo de instância no formato excel\n",
    "# Parâmetros:\n",
    "# - arquivo (str): Caminho para o arquivo Excel com os dados da instância do problema.\n",
    "# Retorno: Retorna os parâmetros do problema (I, J, S, Z) e as matrizes de horários, recursos e custos.\n",
    "def ler_dados(arquivo):\n",
    "    dados = pd.read_excel(arquivo, sheet_name='inputgrad_certo', header=None)\n",
    "\n",
    "    # Extrai os parâmetros\n",
    "    I = int(dados.iloc[1, 0])  # Número de horários\n",
    "    J = int(dados.iloc[1, 1])  # Número de turmas\n",
    "    S = int(dados.iloc[4, 0])  # Número de salas\n",
    "    Z = int(dados.iloc[4, 1])  # Número de recursos\n",
    "\n",
    "    # Extrai as matrizes relacionadas aos horários, recursos e custos\n",
    "    M_ini = 7\n",
    "    M = dados.iloc[M_ini:M_ini + I, 0:J].values  # Matriz M (horários por turma)\n",
    "\n",
    "    t_ini = M_ini + I + 2\n",
    "    t = dados.iloc[t_ini:t_ini + S, 0:Z].values  # Matriz t (recursos por sala)\n",
    "\n",
    "    r_ini = t_ini + S + 2\n",
    "    r = dados.iloc[r_ini:r_ini + J, 0:Z].values  # Matriz r (recursos por turma)\n",
    "\n",
    "    c_ini = r_ini + J + 2\n",
    "    c = dados.iloc[c_ini:c_ini + S, 0:J].values  # Matriz c (custo de alocar uma turma em uma sala)\n",
    "\n",
    "    w_ini = c_ini + S + 2\n",
    "    w = dados.iloc[w_ini:w_ini + S, 0].values.reshape(-1, 1)  # Vetor w (capacidades das salas)\n",
    "\n",
    "    q_ini = w_ini + S + 2\n",
    "    q = dados.iloc[q_ini:q_ini + J, 0].values.reshape(-1, 1)  # Vetor q (número de alunos por turma)\n",
    "\n",
    "    return I, J, S, Z, M, t, r, c.T, w, q"
   ]
  },
  {
   "cell_type": "markdown",
   "id": "wwMTAinISlWJ",
   "metadata": {
    "id": "wwMTAinISlWJ"
   },
   "source": [
    "# Modelo"
   ]
  },
  {
   "cell_type": "code",
   "execution_count": 100,
   "id": "MjbvS7tkSmgh",
   "metadata": {
    "id": "MjbvS7tkSmgh"
   },
   "outputs": [],
   "source": [
    "# Função para criar o modelo de alocação de aulas\n",
    "# Parâmetros:\n",
    "# - I, J, S, Z: Parâmetros extraídos dos dados (horários, turmas, salas e recursos).\n",
    "# - M, t, r, c, w, q: Matrizes e vetores extraídos dos dados.\n",
    "# Retorno: Retorna o modelo de otimização e as variaveis.\n",
    "def criar_modelo(I, J, S, Z, M, t, r, c, w, q):\n",
    "    modelo = Model(\"Alocacao_de_Salas\", solver_name=\"CBC\")\n",
    "\n",
    "    x_ts = [[m.add_var(name=f'x_ts_{i}_{j}', var_type=BINARY) for j in range(s)] for i in range(t)]\n",
    "    y_s = [m.add_var(name=f'y_{j}', var_type=INTEGER) for j in range(s)]\n",
    "\n",
    "    alpha = 1\n",
    "    beta = 1\n",
    "\n",
    "    # Função Objetivo\n",
    "    modelo.objective = minimize(\n",
    "        alpha * sum(c[i][j] * x_ts[i][j] for i in range(t) for j in range(s)) +\n",
    "        beta * sum(y_s[j] for j in range(s))\n",
    "    )\n",
    "\n",
    "    # Restrições\n",
    "    # Restrição (2): Cada turma deve ser alocada em exatamente uma sala\n",
    "    for i in range(t):\n",
    "        m += sum(x_ts[i][j] for j in range(s)) == 1, f\"alocar_turma_{i}\"\n",
    "\n",
    "    # Restrição (3): Turmas só podem ser alocadas em salas válidas\n",
    "    for i in range(t):\n",
    "        for j in range(s):\n",
    "            m += x_ts[i][j] <= eta_ts[i][j], f\"sala_valida_turma_{i}_sala_{j}\"\n",
    "\n",
    "    # Restrição (4): Conflito de horários\n",
    "    for i in range(t):\n",
    "        for j in range(t):\n",
    "            if theta_att_prime[i][j] == 1:\n",
    "                for k in range(s):\n",
    "                    m += x_ts[i][k] + x_ts[j][k] <= 1, f\"conflito_{i}_{j}_sala_{k}\"\n",
    "\n",
    "    # Restrição (5): Número de turmas alocadas em uma sala\n",
    "    for j in range(s):\n",
    "        m += sum(x_ts[i][j] for i in range(t)) <= y_s[j], f\"turmas_na_sala_{j}\"\n",
    "\n",
    "    # Restrição (6): Variáveis binárias para alocação de turmas\n",
    "    for i in range(t):\n",
    "        for j in range(s):\n",
    "            m += x_ts[i][j] >= 0, f\"binaria_x_ts_{i}_{j}\"\n",
    "\n",
    "    # Restrição (7): Variáveis inteiras para número de turmas por sala\n",
    "    for j in range(s):\n",
    "        m += y_s[j] >= 0, f\"inteira_ys_{j}\"\n",
    "\n",
    "    return modelo, x_ts, y_s\n",
    "\n",
    "# Função para resolver o modelo de otimização com base em parâmetros fornecidos.\n",
    "# Parâmetros:\n",
    "# - modelo (pulp.LpProblem): O modelo de otimização que será resolvido.\n",
    "# - presolve (int): Se 1, presolve é ativado; se 0, é desativado.\n",
    "# - cortes (int): Intensidade da geracao de cortes (0 desativa).\n",
    "# Retorno: O modelo resolvido.\n",
    "def resolver_modelo(modelo, presolve, cortes):\n",
    "    # Configurar as opções do solver\n",
    "    modelo.preprocess = presolve  # Define preprocess (-1, 0, 1)\n",
    "    modelo.cuts = cortes  # Define geração de cortes (-1, 0, 1, 2, 3)\n",
    "\n",
    "    # Medir o tempo de execução\n",
    "    start_time = time.time()\n",
    "\n",
    "    # Resolver o modelo\n",
    "    status = modelo.optimize(max_seconds=1800) # Limite de tempo de 30 minutos\n",
    "\n",
    "    # Calcular o tempo de execução\n",
    "    execution_time = time.time() - start_time\n",
    "\n",
    "    # Exibir as informações do modelo resolvido\n",
    "    print(f\"Solução Encontrada: {modelo.objective_value}\")\n",
    "    print(f\"Gap: {modelo.gap * 100:.2f}%\")\n",
    "    print(f\"Tempo de execução: {execution_time:.2f} segundos\")\n",
    "\n",
    "    return modelo\n",
    "\n",
    "# Função para exibir a solução do modelo de alocação\n",
    "# Parâmetros:\n",
    "# - modelo (mip.Model): O modelo de otimização resolvido.\n",
    "# - x (list of lists): Variáveis de decisão de alocação turma-sala (binárias).\n",
    "# - y (list): Variáveis de decisão de trocas de sala (inteiras).\n",
    "# - J (int): Número de turmas.\n",
    "# - S (int): Número de salas.\n",
    "# Retorno: Nenhum. A função exibe diretamente a solução.\n",
    "def exibir_solucao(modelo, x, y, J, S):\n",
    "    # Verifica se o modelo encontrou uma solução\n",
    "    if modelo.status == OptimizationStatus.OPTIMAL or modelo.status == OptimizationStatus.FEASIBLE:\n",
    "        # Coletar solução de alocação de turmas\n",
    "        alocacao = []\n",
    "        for j in range(J):\n",
    "            for s in range(S):\n",
    "                if x[j][s].x >= 0.8:  # Verifica se a variável binária x[j][s] é 1 (alocada)\n",
    "                    alocacao.append((f\"Turma {j+1}\", f\"Sala {s+1}\"))\n",
    "\n",
    "        # Coletar o número de turmas por sala\n",
    "        trocas = [y[s].x for s in range(S)]\n",
    "\n",
    "        # Exibir a alocação de turmas e trocas de sala\n",
    "        print(\"Alocação de turmas:\")\n",
    "        for turma, sala in alocacao:\n",
    "            print(f\"{turma} alocada em {sala}\")\n",
    "\n",
    "        print(\"\\nTurmas por sala:\")\n",
    "        for s in range(S):\n",
    "            print(f\"Número de turmas alocadas na sala {s+1}: {trocas[s]}\")\n",
    "    else:\n",
    "        print(\"Nenhuma solução viável foi encontrada.\")"
   ]
  },
  {
   "cell_type": "markdown",
   "id": "SicoxhAmSnpB",
   "metadata": {
    "id": "SicoxhAmSnpB"
   },
   "source": [
    "# Gerar Instâncias Maiores"
   ]
  },
  {
   "cell_type": "code",
   "execution_count": 101,
   "id": "41a8dd89",
   "metadata": {
    "id": "41a8dd89"
   },
   "outputs": [],
   "source": [
    "# Função para gerar uma nova instância com base em dados lidos e um fator de escala.\n",
    "# Esta função aumenta ou reduz o tamanho da instância conforme o fator de escala fornecido.\n",
    "# Parâmetros:\n",
    "# - I, J, S, Z: Parâmetros de horários, turmas, salas e recursos.\n",
    "# - M, t, r, c, w, q, A_t: Matrizes lidas do arquivo de entrada (horários, recursos, custos, capacidade, alunos, etc).\n",
    "# - escala: Fator de escala para aumentar ou reduzir o tamanho da instância (exemplo: 1.5 para aumentar em 50%).\n",
    "# Retorno: Retorna os novos valores escalonados de I, J, S, Z e das matrizes M, t, r, c, w, q.\n",
    "def gerar_instancia(I, J, S, Z, M, t, r, c, w, q, escala):\n",
    "    novo_J = int(np.ceil(J * escala))\n",
    "    novo_S = int(np.ceil(S * escala))\n",
    "    novo_I = int(np.ceil(I * escala))\n",
    "    novo_Z = int(np.ceil(Z * escala))\n",
    "\n",
    "    # Função auxiliar para ampliar uma matriz de dados.\n",
    "    def ampliar(matriz, novo_tamanho_linhas, novo_tamanho_colunas):\n",
    "        fator_linhas = int(np.ceil(novo_tamanho_linhas / matriz.shape[0]))\n",
    "        fator_colunas = int(np.ceil(novo_tamanho_colunas / matriz.shape[1]))\n",
    "\n",
    "        matriz_expandida = np.tile(matriz, (fator_linhas, fator_colunas))\n",
    "\n",
    "        # Corta a matriz expandida para o novo tamanho necessário.\n",
    "        return matriz_expandida[:novo_tamanho_linhas, :novo_tamanho_colunas]\n",
    "\n",
    "    # Ampliar as matrizes e vetores com base no novo tamanho.\n",
    "    nova_M = ampliar(M, novo_I, novo_J)\n",
    "    nova_t = ampliar(t, novo_S, novo_Z)\n",
    "    nova_r = ampliar(r, novo_J, novo_Z)\n",
    "    nova_c = ampliar(c, novo_J, novo_S)\n",
    "    nova_w = np.tile(w, (int(np.ceil(novo_S / w.shape[0])), 1))[:novo_S]\n",
    "    nova_q = np.tile(q, (int(np.ceil(novo_J / q.shape[0])), 1))[:novo_J]\n",
    "\n",
    "    return novo_I, novo_J, novo_S, novo_Z, nova_M, nova_t, nova_r, nova_c, nova_w, nova_q"
   ]
  },
  {
   "cell_type": "markdown",
   "id": "AFEMnzcoStys",
   "metadata": {
    "id": "AFEMnzcoStys"
   },
   "source": [
    "# Exemplo"
   ]
  },
  {
   "cell_type": "code",
   "execution_count": null,
   "id": "421d7ae2",
   "metadata": {
    "id": "421d7ae2"
   },
   "outputs": [
    {
     "ename": "FileNotFoundError",
     "evalue": "[Errno 2] No such file or directory: '../t1pm/data.xlsx'",
     "output_type": "error",
     "traceback": [
      "\u001b[1;31m---------------------------------------------------------------------------\u001b[0m",
      "\u001b[1;31mFileNotFoundError\u001b[0m                         Traceback (most recent call last)",
      "Cell \u001b[1;32mIn[102], line 3\u001b[0m\n\u001b[0;32m      1\u001b[0m \u001b[38;5;66;03m# OBS: Essa parte não funciona sem primeiro criar corretamente a função \"criar_modelo\"\u001b[39;00m\n\u001b[0;32m      2\u001b[0m escala \u001b[38;5;241m=\u001b[39m \u001b[38;5;241m1\u001b[39m\n\u001b[1;32m----> 3\u001b[0m I, J, S, Z, M, t, r, c, w, q \u001b[38;5;241m=\u001b[39m \u001b[43mler_dados\u001b[49m\u001b[43m(\u001b[49m\u001b[38;5;124;43m'\u001b[39;49m\u001b[38;5;124;43m../t1pm/data.xlsx\u001b[39;49m\u001b[38;5;124;43m'\u001b[39;49m\u001b[43m)\u001b[49m\n\u001b[0;32m      5\u001b[0m \u001b[38;5;66;03m# Gerar a instância com base na escala fornecida\u001b[39;00m\n\u001b[0;32m      6\u001b[0m novo_I, novo_J, novo_S, novo_Z, nova_M, nova_t, nova_r, nova_c, nova_w, nova_q \u001b[38;5;241m=\u001b[39m gerar_instancia(I, J, S, Z, M, t, r, c, w, q, escala)\n",
      "Cell \u001b[1;32mIn[99], line 6\u001b[0m, in \u001b[0;36mler_dados\u001b[1;34m(arquivo)\u001b[0m\n\u001b[0;32m      5\u001b[0m \u001b[38;5;28;01mdef\u001b[39;00m \u001b[38;5;21mler_dados\u001b[39m(arquivo):\n\u001b[1;32m----> 6\u001b[0m     dados \u001b[38;5;241m=\u001b[39m \u001b[43mpd\u001b[49m\u001b[38;5;241;43m.\u001b[39;49m\u001b[43mread_excel\u001b[49m\u001b[43m(\u001b[49m\u001b[43marquivo\u001b[49m\u001b[43m,\u001b[49m\u001b[43m \u001b[49m\u001b[43msheet_name\u001b[49m\u001b[38;5;241;43m=\u001b[39;49m\u001b[38;5;124;43m'\u001b[39;49m\u001b[38;5;124;43minputgrad_certo\u001b[39;49m\u001b[38;5;124;43m'\u001b[39;49m\u001b[43m,\u001b[49m\u001b[43m \u001b[49m\u001b[43mheader\u001b[49m\u001b[38;5;241;43m=\u001b[39;49m\u001b[38;5;28;43;01mNone\u001b[39;49;00m\u001b[43m)\u001b[49m\n\u001b[0;32m      8\u001b[0m     \u001b[38;5;66;03m# Extrai os parâmetros\u001b[39;00m\n\u001b[0;32m      9\u001b[0m     I \u001b[38;5;241m=\u001b[39m \u001b[38;5;28mint\u001b[39m(dados\u001b[38;5;241m.\u001b[39miloc[\u001b[38;5;241m1\u001b[39m, \u001b[38;5;241m0\u001b[39m])  \u001b[38;5;66;03m# Número de horários\u001b[39;00m\n",
      "File \u001b[1;32m~\\AppData\\Local\\Packages\\PythonSoftwareFoundation.Python.3.11_qbz5n2kfra8p0\\LocalCache\\local-packages\\Python311\\site-packages\\pandas\\io\\excel\\_base.py:495\u001b[0m, in \u001b[0;36mread_excel\u001b[1;34m(io, sheet_name, header, names, index_col, usecols, dtype, engine, converters, true_values, false_values, skiprows, nrows, na_values, keep_default_na, na_filter, verbose, parse_dates, date_parser, date_format, thousands, decimal, comment, skipfooter, storage_options, dtype_backend, engine_kwargs)\u001b[0m\n\u001b[0;32m    493\u001b[0m \u001b[38;5;28;01mif\u001b[39;00m \u001b[38;5;129;01mnot\u001b[39;00m \u001b[38;5;28misinstance\u001b[39m(io, ExcelFile):\n\u001b[0;32m    494\u001b[0m     should_close \u001b[38;5;241m=\u001b[39m \u001b[38;5;28;01mTrue\u001b[39;00m\n\u001b[1;32m--> 495\u001b[0m     io \u001b[38;5;241m=\u001b[39m \u001b[43mExcelFile\u001b[49m\u001b[43m(\u001b[49m\n\u001b[0;32m    496\u001b[0m \u001b[43m        \u001b[49m\u001b[43mio\u001b[49m\u001b[43m,\u001b[49m\n\u001b[0;32m    497\u001b[0m \u001b[43m        \u001b[49m\u001b[43mstorage_options\u001b[49m\u001b[38;5;241;43m=\u001b[39;49m\u001b[43mstorage_options\u001b[49m\u001b[43m,\u001b[49m\n\u001b[0;32m    498\u001b[0m \u001b[43m        \u001b[49m\u001b[43mengine\u001b[49m\u001b[38;5;241;43m=\u001b[39;49m\u001b[43mengine\u001b[49m\u001b[43m,\u001b[49m\n\u001b[0;32m    499\u001b[0m \u001b[43m        \u001b[49m\u001b[43mengine_kwargs\u001b[49m\u001b[38;5;241;43m=\u001b[39;49m\u001b[43mengine_kwargs\u001b[49m\u001b[43m,\u001b[49m\n\u001b[0;32m    500\u001b[0m \u001b[43m    \u001b[49m\u001b[43m)\u001b[49m\n\u001b[0;32m    501\u001b[0m \u001b[38;5;28;01melif\u001b[39;00m engine \u001b[38;5;129;01mand\u001b[39;00m engine \u001b[38;5;241m!=\u001b[39m io\u001b[38;5;241m.\u001b[39mengine:\n\u001b[0;32m    502\u001b[0m     \u001b[38;5;28;01mraise\u001b[39;00m \u001b[38;5;167;01mValueError\u001b[39;00m(\n\u001b[0;32m    503\u001b[0m         \u001b[38;5;124m\"\u001b[39m\u001b[38;5;124mEngine should not be specified when passing \u001b[39m\u001b[38;5;124m\"\u001b[39m\n\u001b[0;32m    504\u001b[0m         \u001b[38;5;124m\"\u001b[39m\u001b[38;5;124man ExcelFile - ExcelFile already has the engine set\u001b[39m\u001b[38;5;124m\"\u001b[39m\n\u001b[0;32m    505\u001b[0m     )\n",
      "File \u001b[1;32m~\\AppData\\Local\\Packages\\PythonSoftwareFoundation.Python.3.11_qbz5n2kfra8p0\\LocalCache\\local-packages\\Python311\\site-packages\\pandas\\io\\excel\\_base.py:1550\u001b[0m, in \u001b[0;36mExcelFile.__init__\u001b[1;34m(self, path_or_buffer, engine, storage_options, engine_kwargs)\u001b[0m\n\u001b[0;32m   1548\u001b[0m     ext \u001b[38;5;241m=\u001b[39m \u001b[38;5;124m\"\u001b[39m\u001b[38;5;124mxls\u001b[39m\u001b[38;5;124m\"\u001b[39m\n\u001b[0;32m   1549\u001b[0m \u001b[38;5;28;01melse\u001b[39;00m:\n\u001b[1;32m-> 1550\u001b[0m     ext \u001b[38;5;241m=\u001b[39m \u001b[43minspect_excel_format\u001b[49m\u001b[43m(\u001b[49m\n\u001b[0;32m   1551\u001b[0m \u001b[43m        \u001b[49m\u001b[43mcontent_or_path\u001b[49m\u001b[38;5;241;43m=\u001b[39;49m\u001b[43mpath_or_buffer\u001b[49m\u001b[43m,\u001b[49m\u001b[43m \u001b[49m\u001b[43mstorage_options\u001b[49m\u001b[38;5;241;43m=\u001b[39;49m\u001b[43mstorage_options\u001b[49m\n\u001b[0;32m   1552\u001b[0m \u001b[43m    \u001b[49m\u001b[43m)\u001b[49m\n\u001b[0;32m   1553\u001b[0m     \u001b[38;5;28;01mif\u001b[39;00m ext \u001b[38;5;129;01mis\u001b[39;00m \u001b[38;5;28;01mNone\u001b[39;00m:\n\u001b[0;32m   1554\u001b[0m         \u001b[38;5;28;01mraise\u001b[39;00m \u001b[38;5;167;01mValueError\u001b[39;00m(\n\u001b[0;32m   1555\u001b[0m             \u001b[38;5;124m\"\u001b[39m\u001b[38;5;124mExcel file format cannot be determined, you must specify \u001b[39m\u001b[38;5;124m\"\u001b[39m\n\u001b[0;32m   1556\u001b[0m             \u001b[38;5;124m\"\u001b[39m\u001b[38;5;124man engine manually.\u001b[39m\u001b[38;5;124m\"\u001b[39m\n\u001b[0;32m   1557\u001b[0m         )\n",
      "File \u001b[1;32m~\\AppData\\Local\\Packages\\PythonSoftwareFoundation.Python.3.11_qbz5n2kfra8p0\\LocalCache\\local-packages\\Python311\\site-packages\\pandas\\io\\excel\\_base.py:1402\u001b[0m, in \u001b[0;36minspect_excel_format\u001b[1;34m(content_or_path, storage_options)\u001b[0m\n\u001b[0;32m   1399\u001b[0m \u001b[38;5;28;01mif\u001b[39;00m \u001b[38;5;28misinstance\u001b[39m(content_or_path, \u001b[38;5;28mbytes\u001b[39m):\n\u001b[0;32m   1400\u001b[0m     content_or_path \u001b[38;5;241m=\u001b[39m BytesIO(content_or_path)\n\u001b[1;32m-> 1402\u001b[0m \u001b[38;5;28;01mwith\u001b[39;00m \u001b[43mget_handle\u001b[49m\u001b[43m(\u001b[49m\n\u001b[0;32m   1403\u001b[0m \u001b[43m    \u001b[49m\u001b[43mcontent_or_path\u001b[49m\u001b[43m,\u001b[49m\u001b[43m \u001b[49m\u001b[38;5;124;43m\"\u001b[39;49m\u001b[38;5;124;43mrb\u001b[39;49m\u001b[38;5;124;43m\"\u001b[39;49m\u001b[43m,\u001b[49m\u001b[43m \u001b[49m\u001b[43mstorage_options\u001b[49m\u001b[38;5;241;43m=\u001b[39;49m\u001b[43mstorage_options\u001b[49m\u001b[43m,\u001b[49m\u001b[43m \u001b[49m\u001b[43mis_text\u001b[49m\u001b[38;5;241;43m=\u001b[39;49m\u001b[38;5;28;43;01mFalse\u001b[39;49;00m\n\u001b[0;32m   1404\u001b[0m \u001b[43m\u001b[49m\u001b[43m)\u001b[49m \u001b[38;5;28;01mas\u001b[39;00m handle:\n\u001b[0;32m   1405\u001b[0m     stream \u001b[38;5;241m=\u001b[39m handle\u001b[38;5;241m.\u001b[39mhandle\n\u001b[0;32m   1406\u001b[0m     stream\u001b[38;5;241m.\u001b[39mseek(\u001b[38;5;241m0\u001b[39m)\n",
      "File \u001b[1;32m~\\AppData\\Local\\Packages\\PythonSoftwareFoundation.Python.3.11_qbz5n2kfra8p0\\LocalCache\\local-packages\\Python311\\site-packages\\pandas\\io\\common.py:882\u001b[0m, in \u001b[0;36mget_handle\u001b[1;34m(path_or_buf, mode, encoding, compression, memory_map, is_text, errors, storage_options)\u001b[0m\n\u001b[0;32m    873\u001b[0m         handle \u001b[38;5;241m=\u001b[39m \u001b[38;5;28mopen\u001b[39m(\n\u001b[0;32m    874\u001b[0m             handle,\n\u001b[0;32m    875\u001b[0m             ioargs\u001b[38;5;241m.\u001b[39mmode,\n\u001b[1;32m   (...)\u001b[0m\n\u001b[0;32m    878\u001b[0m             newline\u001b[38;5;241m=\u001b[39m\u001b[38;5;124m\"\u001b[39m\u001b[38;5;124m\"\u001b[39m,\n\u001b[0;32m    879\u001b[0m         )\n\u001b[0;32m    880\u001b[0m     \u001b[38;5;28;01melse\u001b[39;00m:\n\u001b[0;32m    881\u001b[0m         \u001b[38;5;66;03m# Binary mode\u001b[39;00m\n\u001b[1;32m--> 882\u001b[0m         handle \u001b[38;5;241m=\u001b[39m \u001b[38;5;28mopen\u001b[39m(handle, ioargs\u001b[38;5;241m.\u001b[39mmode)\n\u001b[0;32m    883\u001b[0m     handles\u001b[38;5;241m.\u001b[39mappend(handle)\n\u001b[0;32m    885\u001b[0m \u001b[38;5;66;03m# Convert BytesIO or file objects passed with an encoding\u001b[39;00m\n",
      "\u001b[1;31mFileNotFoundError\u001b[0m: [Errno 2] No such file or directory: '../t1pm/data.xlsx'"
     ]
    }
   ],
   "source": [
    "# OBS: Essa parte não funciona sem primeiro criar corretamente a função \"criar_modelo\"\n",
    "escala = 1\n",
    "I, J, S, Z, M, t, r, c, w, q = ler_dados('data.xlsx')\n",
    "\n",
    "# Gerar a instância com base na escala fornecida\n",
    "novo_I, novo_J, novo_S, novo_Z, nova_M, nova_t, nova_r, nova_c, nova_w, nova_q = gerar_instancia(I, J, S, Z, M, t, r, c, w, q, escala)\n",
    "\n",
    "# Criar e resolver o modelo\n",
    "mod, x, y = criar_modelo(novo_I, novo_J, novo_S, novo_Z, nova_M, nova_t, nova_r, nova_c, nova_w, nova_q)\n",
    "m = resolver_modelo(mod, 1, 1)\n",
    "\n",
    "# Exibir a solução (descomente a linha abaixo para exibir)\n",
    "exibir_solucao(m, x, y, novo_J, novo_S)"
   ]
  }
 ],
 "metadata": {
  "colab": {
   "collapsed_sections": [
    "4GHGJaxmppTB",
    "xfw7mQ6kSgkp",
    "SicoxhAmSnpB"
   ],
   "provenance": []
  },
  "kernelspec": {
   "display_name": "Python 3",
   "language": "python",
   "name": "python3"
  },
  "language_info": {
   "codemirror_mode": {
    "name": "ipython",
    "version": 3
   },
   "file_extension": ".py",
   "mimetype": "text/x-python",
   "name": "python",
   "nbconvert_exporter": "python",
   "pygments_lexer": "ipython3",
   "version": "3.11.9"
  }
 },
 "nbformat": 4,
 "nbformat_minor": 5
}
